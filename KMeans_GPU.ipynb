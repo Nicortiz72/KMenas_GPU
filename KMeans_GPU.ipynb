{
  "nbformat": 4,
  "nbformat_minor": 0,
  "metadata": {
    "colab": {
      "name": "lab3 (1) (2).ipynb",
      "provenance": []
    },
    "kernelspec": {
      "name": "python3",
      "display_name": "Python 3"
    },
    "language_info": {
      "name": "python"
    },
    "accelerator": "GPU"
  },
  "cells": [
    {
      "cell_type": "code",
      "metadata": {
        "colab": {
          "base_uri": "https://localhost:8080/"
        },
        "id": "efcalteTX2pO",
        "outputId": "56a66d3b-f5ec-4468-b543-a7305dac3bd3"
      },
      "source": [
        "\n",
        "!pip install pycuda\n",
        "\n",
        "import numpy as np\n",
        "import timeit\n",
        "import scipy.cluster\n",
        "import scipy.cluster.vq\n",
        "import pycuda.driver as drv\n",
        "import math\n",
        "from numpy.random import randint\n",
        "from pycuda import driver, compiler, gpuarray\n",
        "import pycuda.autoinit\n",
        "\n",
        "vals = []\n",
        "\n",
        "def cu_vq(obs, clusters):\n",
        "    global vals\n",
        "    kernel_code_template = \"\"\"\n",
        "     #include \"float.h\"\n",
        "      __device__ void loadVector(float *target, float* source, int dimensions ){\n",
        "          for( int i = 0; i < dimensions; i++ ) target[i] = source[i];\n",
        "      }\n",
        "      // the kernel definition\n",
        "      __global__ void cu_vq(float *g_idata, float *g_centroids, int * cluster, float *min_dist, int numClusters, int numDim, int numPoints) {\n",
        "        int valindex = blockIdx.x * blockDim.x + threadIdx.x ;\n",
        "        __shared__ float mean[%(DIMENSIONS)s];\n",
        "        float minDistance = FLT_MAX;\n",
        "        int myCentroid = 0;\n",
        "        if(valindex < numPoints){\n",
        "          for(int k=0;k<numClusters;k++){\n",
        "            if(threadIdx.x == 0) loadVector( mean, &g_centroids[k*(numDim)], numDim );\n",
        "            __syncthreads();\n",
        "            float distance = 0.0;\n",
        "            for(int i=0;i<numDim;i++){\n",
        "              float increased_distance = (g_idata[valindex+i*(numPoints)] -mean[i]);\n",
        "              distance = distance +(increased_distance * increased_distance);\n",
        "            }\n",
        "            if(distance<minDistance) {\n",
        "              minDistance = distance ;\n",
        "              myCentroid = k;\n",
        "            }\n",
        "          }\n",
        "          cluster[valindex]=myCentroid;\n",
        "          min_dist[valindex]=sqrt(minDistance);\n",
        "        }\n",
        "      }\n",
        "    \"\"\"\n",
        "    nclusters = clusters.shape[0]\n",
        "    points = obs.shape[0]\n",
        "    dimensions = obs.shape[1]\n",
        "    block_size = 512\n",
        "    blocks = int(math.ceil(float(points) / block_size))\n",
        "\n",
        "    kernel_code = kernel_code_template % {'DIMENSIONS': dimensions}\n",
        "    mod = compiler.SourceModule(kernel_code)\n",
        "\n",
        "    dataT = obs.T.astype(np.float32).copy()\n",
        "    clusters = clusters.astype(np.float32)\n",
        "\n",
        "    cluster = gpuarray.zeros(points, dtype=np.int32)\n",
        "    min_dist = gpuarray.zeros(points, dtype=np.float32)\n",
        "\n",
        "    kmeans_kernel = mod.get_function('cu_vq')\n",
        "\n",
        "    start = drv.Event()\n",
        "    end=drv.Event()\n",
        "    #Start Time\n",
        "    start.record()\n",
        "    \n",
        "    kmeans_kernel(driver.In(dataT), driver.In(clusters), cluster, min_dist, np.int32(nclusters), np.int32(dimensions), np.int32(points), grid=(blocks, 1), block=(block_size, 1, 1),)\n",
        "\n",
        "    end.record()\n",
        "    end.synchronize()\n",
        "    #Measure time difference, give time in milliseconds, which is converted to seconds.\n",
        "    secs = start.time_till(end)*1e-3\n",
        "    \n",
        "    vals.append(secs)\n",
        "\n",
        "    return cluster.get(), min_dist.get()\n",
        "\n",
        "times = []\n",
        "\n",
        "def avg(A): return sum(A)/len(A)\n",
        "\n",
        "def _kmeans_cuda(obs, guess, thresh=1e-5):\n",
        "    global vals, times\n",
        "    code_book = np.array(guess, copy=True)\n",
        "    avg_dist = []\n",
        "    diff = thresh + 1.\n",
        "    while diff > thresh:\n",
        "        nc = code_book.shape[0]\n",
        "        #compute membership and distances between obs and code_book\n",
        "        obs_code, distort = cu_vq(obs, code_book)\n",
        "        avg_dist.append(np.mean(distort, axis=-1))\n",
        "        #recalc code_book as centroids of associated obs\n",
        "        if(diff > thresh):\n",
        "            has_members = []\n",
        "            for i in np.arange(nc):\n",
        "                cell_members = np.compress(np.equal(obs_code, i), obs, 0)\n",
        "                if cell_members.shape[0] > 0:\n",
        "                    code_book[i] = np.mean(cell_members, 0)\n",
        "                    has_members.append(i)\n",
        "            #remove code_books that didn't have any members\n",
        "            code_book = np.take(code_book, has_members, 0)\n",
        "        if len(avg_dist) > 1:\n",
        "            diff = avg_dist[-2] - avg_dist[-1]\n",
        "    return code_book, avg_dist[-1]\n",
        "\n",
        "\n",
        "def kmeans_cuda(obs, k_or_guess, iter=20, thresh=1e-5):\n",
        "    global vals, times\n",
        "    vals = []\n",
        "    if int(iter) < 1:\n",
        "        raise ValueError('iter must be at least 1.')\n",
        "    if type(k_or_guess) == type(np.array([])):\n",
        "        guess = k_or_guess\n",
        "        if guess.size < 1:\n",
        "            raise ValueError(\"Asked for 0 cluster ? initial book was %s\" % \\\n",
        "                             guess)\n",
        "        result = _kmeans_cuda(obs, guess, thresh=thresh)\n",
        "    else:\n",
        "        #initialize best distance value to a large value\n",
        "        best_dist = np.inf\n",
        "        No = obs.shape[0]\n",
        "        k = k_or_guess\n",
        "        if k < 1:\n",
        "            raise ValueError(\"Asked for 0 cluster ? \")\n",
        "        for i in range(iter):\n",
        "            #the intial code book is randomly selected from observations\n",
        "            guess = np.take(obs, randint(0, No, k), 0)\n",
        "            book, dist = _kmeans_cuda(obs, guess, thresh=thresh)\n",
        "            if dist < best_dist:\n",
        "                best_book = book\n",
        "                best_dist = dist\n",
        "        result = best_book, best_dist\n",
        "    times.append(avg(vals))\n",
        "\n",
        "    return result\n",
        "\n",
        "serial = []\n",
        "\n",
        "def main():\n",
        "    global serial\n",
        "    dimensions = 128\n",
        "    nclusters = 256\n",
        "\n",
        "    rounds = 3  # for timeit\n",
        "    rtol = 0.001  # for the relative error calculation\n",
        "\n",
        "    for i in range(10000, 200001, 10000):\n",
        "      points =  i\n",
        "      data = np.random.randn(points, dimensions).astype(np.float32)\n",
        "      print(\"points\", points, \"  dimensions\", dimensions, \"  nclusters\", nclusters, \"  rounds\", rounds)\n",
        "      clusters = data[:nclusters]\n",
        "      gpu_book, gpu_dist = kmeans_cuda(data, clusters)\n",
        "      \n",
        "      serial.append((timeit.timeit(lambda: scipy.cluster.vq.kmeans(data, nclusters, iter=1), number=rounds)))\n",
        "      \"\"\"\n",
        "          \n",
        "          cpu_book, cpu_dist = scipy.cluster.vq.kmeans(data, clusters)\n",
        "\n",
        "          print('Cuda k means', timeit.timeit(lambda: kmeans_cuda(data, clusters, iter=1), number=rounds))\n",
        "          gpu_book, gpu_dist = kmeans_cuda(data, clusters)\n",
        "          errorsCPU_GPU = nclusters * dimensions - sum(1 for a, b in zip(gpu_book.ravel(), cpu_book.ravel()) if (abs(a - b) <= (rtol * abs(b))))\n",
        "          print(\"\")\n",
        "          print(\"--------------------------------------------------------------\")\n",
        "          print(\"\")\n",
        "\n",
        "      \"\"\"\n",
        "     \n",
        "main()"
      ],
      "execution_count": 4,
      "outputs": [
        {
          "output_type": "stream",
          "text": [
            "Collecting pycuda\n",
            "\u001b[?25l  Downloading https://files.pythonhosted.org/packages/5a/56/4682a5118a234d15aa1c8768a528aac4858c7b04d2674e18d586d3dfda04/pycuda-2021.1.tar.gz (1.7MB)\n",
            "\u001b[K     |████████████████████████████████| 1.7MB 7.7MB/s \n",
            "\u001b[?25h  Installing build dependencies ... \u001b[?25l\u001b[?25hdone\n",
            "  Getting requirements to build wheel ... \u001b[?25l\u001b[?25hdone\n",
            "    Preparing wheel metadata ... \u001b[?25l\u001b[?25hdone\n",
            "Requirement already satisfied: appdirs>=1.4.0 in /usr/local/lib/python3.7/dist-packages (from pycuda) (1.4.4)\n",
            "Collecting mako\n",
            "\u001b[?25l  Downloading https://files.pythonhosted.org/packages/f3/54/dbc07fbb20865d3b78fdb7cf7fa713e2cba4f87f71100074ef2dc9f9d1f7/Mako-1.1.4-py2.py3-none-any.whl (75kB)\n",
            "\u001b[K     |████████████████████████████████| 81kB 11.8MB/s \n",
            "\u001b[?25hCollecting pytools>=2011.2\n",
            "\u001b[?25l  Downloading https://files.pythonhosted.org/packages/52/26/c7ab098ceb4e4e3f0e66e21257a286bb455ea22af7afefbd704d9ccf324c/pytools-2021.2.7.tar.gz (63kB)\n",
            "\u001b[K     |████████████████████████████████| 71kB 10.3MB/s \n",
            "\u001b[?25hRequirement already satisfied: MarkupSafe>=0.9.2 in /usr/local/lib/python3.7/dist-packages (from mako->pycuda) (2.0.1)\n",
            "Requirement already satisfied: numpy>=1.6.0 in /usr/local/lib/python3.7/dist-packages (from pytools>=2011.2->pycuda) (1.19.5)\n",
            "Building wheels for collected packages: pycuda\n",
            "  Building wheel for pycuda (PEP 517) ... \u001b[?25l\u001b[?25hdone\n",
            "  Created wheel for pycuda: filename=pycuda-2021.1-cp37-cp37m-linux_x86_64.whl size=627498 sha256=75cc07c96c5c2bee06360da7128647cbd3051ccd5cd3021552a5c8810824e3fa\n",
            "  Stored in directory: /root/.cache/pip/wheels/d5/55/64/fd4dddcc5f1c25eebd90b5291c3769101dc978c70165685512\n",
            "Successfully built pycuda\n",
            "Building wheels for collected packages: pytools\n",
            "  Building wheel for pytools (setup.py) ... \u001b[?25l\u001b[?25hdone\n",
            "  Created wheel for pytools: filename=pytools-2021.2.7-py2.py3-none-any.whl size=60644 sha256=ef124e01622ededee190323991cdb320b1d8a7625f166f07150a5daad8771779\n",
            "  Stored in directory: /root/.cache/pip/wheels/a0/b5/e5/e65d25997fd77729b9aa214645add18688483e48bbcbab6ffc\n",
            "Successfully built pytools\n",
            "Installing collected packages: mako, pytools, pycuda\n",
            "Successfully installed mako-1.1.4 pycuda-2021.1 pytools-2021.2.7\n",
            "points 10000   dimensions 128   nclusters 256   rounds 3\n",
            "points 20000   dimensions 128   nclusters 256   rounds 3\n",
            "points 30000   dimensions 128   nclusters 256   rounds 3\n",
            "points 40000   dimensions 128   nclusters 256   rounds 3\n",
            "points 50000   dimensions 128   nclusters 256   rounds 3\n",
            "points 60000   dimensions 128   nclusters 256   rounds 3\n",
            "points 70000   dimensions 128   nclusters 256   rounds 3\n",
            "points 80000   dimensions 128   nclusters 256   rounds 3\n",
            "points 90000   dimensions 128   nclusters 256   rounds 3\n",
            "points 100000   dimensions 128   nclusters 256   rounds 3\n",
            "points 110000   dimensions 128   nclusters 256   rounds 3\n",
            "points 120000   dimensions 128   nclusters 256   rounds 3\n",
            "points 130000   dimensions 128   nclusters 256   rounds 3\n",
            "points 140000   dimensions 128   nclusters 256   rounds 3\n",
            "points 150000   dimensions 128   nclusters 256   rounds 3\n",
            "points 160000   dimensions 128   nclusters 256   rounds 3\n",
            "points 170000   dimensions 128   nclusters 256   rounds 3\n",
            "points 180000   dimensions 128   nclusters 256   rounds 3\n",
            "points 190000   dimensions 128   nclusters 256   rounds 3\n",
            "points 200000   dimensions 128   nclusters 256   rounds 3\n"
          ],
          "name": "stdout"
        }
      ]
    },
    {
      "cell_type": "code",
      "metadata": {
        "colab": {
          "base_uri": "https://localhost:8080/"
        },
        "id": "w5PNABCjmlcl",
        "outputId": "92924ea9-a51f-4df2-f40b-d898afa285ef"
      },
      "source": [
        "times"
      ],
      "execution_count": 5,
      "outputs": [
        {
          "output_type": "execute_result",
          "data": {
            "text/plain": [
              "[0.00768739292200874,\n",
              " 0.013912490970210028,\n",
              " 0.020134094238281247,\n",
              " 0.026420715527656752,\n",
              " 0.03392344948341106,\n",
              " 0.04117579008031774,\n",
              " 0.04650907355088453,\n",
              " 0.051385230803153874,\n",
              " 0.05936632522164958,\n",
              " 0.06626109409332276,\n",
              " 0.07211501084512738,\n",
              " 0.07796154082448858,\n",
              " 0.08495027057035467,\n",
              " 0.09068439654300085,\n",
              " 0.09603167036103039,\n",
              " 0.10055326781875781,\n",
              " 0.10875428097373568,\n",
              " 0.11408188135937009,\n",
              " 0.12109906412285072,\n",
              " 0.12676247499573906]"
            ]
          },
          "metadata": {
            "tags": []
          },
          "execution_count": 5
        }
      ]
    },
    {
      "cell_type": "code",
      "metadata": {
        "colab": {
          "base_uri": "https://localhost:8080/"
        },
        "id": "HlblCUQw7axd",
        "outputId": "a77c8f8a-58bd-4f6d-9f77-b072cffaf8b6"
      },
      "source": [
        "serial"
      ],
      "execution_count": 6,
      "outputs": [
        {
          "output_type": "execute_result",
          "data": {
            "text/plain": [
              "[1.6783708899999965,\n",
              " 3.9253869039999927,\n",
              " 7.957719517999976,\n",
              " 11.728691054000024,\n",
              " 16.94590404799999,\n",
              " 21.156309604000057,\n",
              " 29.38090872800001,\n",
              " 35.832869491,\n",
              " 42.34770202599998,\n",
              " 47.59458667700005,\n",
              " 58.02551512299988,\n",
              " 63.74640980100003,\n",
              " 71.65057582099985,\n",
              " 81.48665673799997,\n",
              " 85.65846303400008,\n",
              " 96.17798618500001,\n",
              " 117.63778338499992,\n",
              " 111.36060530000009,\n",
              " 130.84915105500022,\n",
              " 123.54648228500037]"
            ]
          },
          "metadata": {
            "tags": []
          },
          "execution_count": 6
        }
      ]
    },
    {
      "cell_type": "code",
      "metadata": {
        "colab": {
          "base_uri": "https://localhost:8080/",
          "height": 295
        },
        "id": "LixHXSXLrb99",
        "outputId": "6f30ee00-3217-4239-cf90-8a2338761bca"
      },
      "source": [
        "import matplotlib.pyplot as plt\n",
        "fig, ax = plt.subplots()\n",
        "ax.plot(list(range(10000, 200001, 10000)), serial)\n",
        "ax.plot(list(range(10000, 200001, 10000)), times)\n",
        "\n",
        "ax.set(xlabel='Points (n)', ylabel='Time (sec)',\n",
        "       title='Runtime')\n",
        "ax.grid()\n",
        "\n",
        "\n",
        "fig.savefig(\"test.png\")"
      ],
      "execution_count": 7,
      "outputs": [
        {
          "output_type": "display_data",
          "data": {
            "image/png": "[encoded data removed]",
            "text/plain": [
              "<Figure size 432x288 with 1 Axes>"
            ]
          },
          "metadata": {
            "tags": [],
            "needs_background": "light"
          }
        }
      ]
    },
    {
      "cell_type": "code",
      "metadata": {
        "colab": {
          "base_uri": "https://localhost:8080/",
          "height": 295
        },
        "id": "1TfyjqXrKsP0",
        "outputId": "6c25b730-f667-414b-a9ba-4ea525f70705"
      },
      "source": [
        "speedup = []\n",
        "for i in range(len(serial)): speedup.append(serial[i]/times[i])\n",
        "fig, ax = plt.subplots()\n",
        "ax.plot(list(range(10000, 200001, 10000)), serial)\n",
        "ax.set(xlabel='Points (n)', ylabel='Seq_time/Par_time',\n",
        "       title='Speedup')\n",
        "ax.grid()\n",
        "\n",
        "fig.savefig(\"test.png\")"
      ],
      "execution_count": 10,
      "outputs": [
        {
          "output_type": "display_data",
          "data": {
            "image/png": "[encoded data removed]",
            "text/plain": [
              "<Figure size 432x288 with 1 Axes>"
            ]
          },
          "metadata": {
            "tags": [],
            "needs_background": "light"
          }
        }
      ]
    },
    {
      "cell_type": "code",
      "metadata": {
        "colab": {
          "base_uri": "https://localhost:8080/"
        },
        "id": "c1xCj1JVOtCL",
        "outputId": "8ae19f3e-8bc2-491b-a579-dbae46c71eb0"
      },
      "source": [
        "import sys\n",
        "dimensions = 128\n",
        "nclusters = 256\n",
        "\n",
        "rounds = 3  # for timeit\n",
        "rtol = 0.001  # for the relative error calculation\n",
        "sz = []\n",
        "for i in range(10000, 200001, 10000):\n",
        "      points =  i\n",
        "      data = np.random.randn(points, dimensions).astype(np.float32)\n",
        "      byts = sys.getsizeof(data)\n",
        "      mega = byts*(1e-6)\n",
        "      sz.append(1000+mega)\n",
        "sz\n"
      ],
      "execution_count": 13,
      "outputs": [
        {
          "output_type": "execute_result",
          "data": {
            "text/plain": [
              "[1005.120112,\n",
              " 1010.240112,\n",
              " 1015.360112,\n",
              " 1020.480112,\n",
              " 1025.600112,\n",
              " 1030.720112,\n",
              " 1035.840112,\n",
              " 1040.960112,\n",
              " 1046.080112,\n",
              " 1051.200112,\n",
              " 1056.3201119999999,\n",
              " 1061.440112,\n",
              " 1066.5601120000001,\n",
              " 1071.680112,\n",
              " 1076.800112,\n",
              " 1081.920112,\n",
              " 1087.040112,\n",
              " 1092.160112,\n",
              " 1097.280112,\n",
              " 1102.400112]"
            ]
          },
          "metadata": {
            "tags": []
          },
          "execution_count": 13
        }
      ]
    },
    {
      "cell_type": "code",
      "metadata": {
        "colab": {
          "base_uri": "https://localhost:8080/",
          "height": 295
        },
        "id": "D_T0uXqMR2Ta",
        "outputId": "b422d2b7-a546-4ddc-c616-15db27ee3b2b"
      },
      "source": [
        "import matplotlib.pyplot as plt\n",
        "fig, ax = plt.subplots()\n",
        "ax.plot(list(range(10000, 200001, 10000)), sz)\n",
        "\n",
        "ax.set(xlabel='Points (n)', ylabel='RAM (MB)',\n",
        "       title='RAM/Size')\n",
        "ax.grid()"
      ],
      "execution_count": 14,
      "outputs": [
        {
          "output_type": "display_data",
          "data": {
            "image/png": "[encoded data removed]",
            "text/plain": [
              "<Figure size 432x288 with 1 Axes>"
            ]
          },
          "metadata": {
            "tags": [],
            "needs_background": "light"
          }
        }
      ]
    }
  ]
}